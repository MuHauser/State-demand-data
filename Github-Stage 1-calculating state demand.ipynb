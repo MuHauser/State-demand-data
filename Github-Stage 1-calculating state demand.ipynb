{
 "cells": [
  {
   "cell_type": "markdown",
   "metadata": {},
   "source": [
    "**Overview Stage 1**"
   ]
  },
  {
   "cell_type": "markdown",
   "metadata": {},
   "source": [
    "**1. Import data**   \n",
    "2 different datasets are imported and formatted to be used as inputs to calculate   \n",
    "Data is taken for the year 2019.\n",
    "    1. yearly customer retail sales data (EIA-861)\n",
    "    2. hourly demand data (EIA-930) (*Here, we neglect subregional demand data*)\n",
    "\n",
    "**3. Caluclate fraction of retail sales sold to each state** \n",
    "\n",
    "The output of this section will be required to move to Stage 2.\n",
    "\n",
    "**4. Caluclate hourly demand profiles for each state**   \n"
   ]
  },
  {
   "cell_type": "markdown",
   "metadata": {},
   "source": [
    "# Import data"
   ]
  },
  {
   "cell_type": "code",
   "execution_count": 1,
   "metadata": {},
   "outputs": [],
   "source": [
    "#import required packages\n",
    "import pandas as pd\n",
    "import matplotlib.pyplot as plt\n",
    "import numpy as np\n",
    "import glob"
   ]
  },
  {
   "cell_type": "markdown",
   "metadata": {},
   "source": [
    "## Import Customer retail sales data from EIA"
   ]
  },
  {
   "cell_type": "markdown",
   "metadata": {},
   "source": [
    "The data (EIA-861) can be found here: https://www.eia.gov/electricity/data/eia861/    \n",
    "The required file is called *Sales to Ultimate Customers*.\n",
    "Enter the path to this file in the code below."
   ]
  },
  {
   "cell_type": "code",
   "execution_count": 24,
   "metadata": {
    "scrolled": true
   },
   "outputs": [
    {
     "data": {
      "text/html": [
       "<div>\n",
       "<style scoped>\n",
       "    .dataframe tbody tr th:only-of-type {\n",
       "        vertical-align: middle;\n",
       "    }\n",
       "\n",
       "    .dataframe tbody tr th {\n",
       "        vertical-align: top;\n",
       "    }\n",
       "\n",
       "    .dataframe thead th {\n",
       "        text-align: right;\n",
       "    }\n",
       "</style>\n",
       "<table border=\"1\" class=\"dataframe\">\n",
       "  <thead>\n",
       "    <tr style=\"text-align: right;\">\n",
       "      <th></th>\n",
       "      <th>Retail sales (MWh)</th>\n",
       "      <th>BA_code</th>\n",
       "      <th>State</th>\n",
       "      <th>Part</th>\n",
       "    </tr>\n",
       "  </thead>\n",
       "  <tbody>\n",
       "    <tr>\n",
       "      <th>0</th>\n",
       "      <td>58000</td>\n",
       "      <td>DUK</td>\n",
       "      <td>SC</td>\n",
       "      <td>A</td>\n",
       "    </tr>\n",
       "    <tr>\n",
       "      <th>1</th>\n",
       "      <td>204261</td>\n",
       "      <td>TVA</td>\n",
       "      <td>MS</td>\n",
       "      <td>A</td>\n",
       "    </tr>\n",
       "    <tr>\n",
       "      <th>2</th>\n",
       "      <td>127579</td>\n",
       "      <td>MISO</td>\n",
       "      <td>LA</td>\n",
       "      <td>A</td>\n",
       "    </tr>\n",
       "    <tr>\n",
       "      <th>3</th>\n",
       "      <td>2623</td>\n",
       "      <td>PJM</td>\n",
       "      <td>MD</td>\n",
       "      <td>A</td>\n",
       "    </tr>\n",
       "    <tr>\n",
       "      <th>4</th>\n",
       "      <td>701387</td>\n",
       "      <td>PJM</td>\n",
       "      <td>VA</td>\n",
       "      <td>A</td>\n",
       "    </tr>\n",
       "  </tbody>\n",
       "</table>\n",
       "</div>"
      ],
      "text/plain": [
       "   Retail sales (MWh) BA_code State Part\n",
       "0               58000     DUK    SC    A\n",
       "1              204261     TVA    MS    A\n",
       "2              127579    MISO    LA    A\n",
       "3                2623     PJM    MD    A\n",
       "4              701387     PJM    VA    A"
      ]
     },
     "execution_count": 24,
     "metadata": {},
     "output_type": "execute_result"
    }
   ],
   "source": [
    "#import customer retail sales data\n",
    "retail_sales = pd.read_excel(r'C:\\Users\\Muriel Hauser\\Documents\\Carnegie Science\\State demand data\\Sales_Ult_Cust_2019.xlsx', sheet_name=\"States\", header=2, nrows=4485) #adapt path to your location\n",
    "#choose columns required for this study\n",
    "retail_sales = retail_sales[['Megawatthours.4','BA Code','State','Part']]\n",
    "#rename columns\n",
    "retail_sales=retail_sales.rename(columns={ \"BA Code\": \"BA_code\", \"Megawatthours.4\": \"Retail sales (MWh)\"}) \n",
    "#delete all rows where Part==C, only Parts (A,B & D) should be counted for Sales and Customers for a state or US total \n",
    "#See bottom row in file for explanations\n",
    "retail_sales = retail_sales[retail_sales.Part != 'C']\n",
    "#delete last row as \n",
    "retail_sales.head()"
   ]
  },
  {
   "cell_type": "markdown",
   "metadata": {},
   "source": [
    "## Import demand data"
   ]
  },
  {
   "cell_type": "markdown",
   "metadata": {},
   "source": [
    "Import hourly demand data (EIA-930) for 2019 from here: https://github.com/truggles/EIA_Cleaned_Hourly_Electricity_Demand_Data, as described here: https://www.nature.com/articles/s41597-020-0483-x"
   ]
  },
  {
   "cell_type": "markdown",
   "metadata": {},
   "source": [
    "##### import raw demand data"
   ]
  },
  {
   "cell_type": "code",
   "execution_count": 3,
   "metadata": {
    "code_folding": [
     0
    ],
    "run_control": {
     "marked": false
    }
   },
   "outputs": [],
   "source": [
    "#function to import demand data and safe as dictionary (each key = one BA)\n",
    "def importfiles(path, dicname):\n",
    "    for f in path:\n",
    "        key = f.split('\\\\')[-1].split('.')[0]\n",
    "        BA_demand=pd.read_csv(f, error_bad_lines=False)\n",
    "        #BA_demand=BA_demand.iloc[2208:10968]    #only year 2019\n",
    "        BA_demand=BA_demand.iloc[2209:10969]    #only year 2019 for MEM format #adjust if other years preferred\n",
    "        BA_demand=BA_demand.set_index('date_time')\n",
    "        #print(key)\n",
    "        #BA = analyze(f)\n",
    "        dicname[(key)] = BA_demand\n",
    "\n"
   ]
  },
  {
   "cell_type": "code",
   "execution_count": 4,
   "metadata": {},
   "outputs": [
    {
     "data": {
      "text/html": [
       "<div>\n",
       "<style scoped>\n",
       "    .dataframe tbody tr th:only-of-type {\n",
       "        vertical-align: middle;\n",
       "    }\n",
       "\n",
       "    .dataframe tbody tr th {\n",
       "        vertical-align: top;\n",
       "    }\n",
       "\n",
       "    .dataframe thead th {\n",
       "        text-align: right;\n",
       "    }\n",
       "</style>\n",
       "<table border=\"1\" class=\"dataframe\">\n",
       "  <thead>\n",
       "    <tr style=\"text-align: right;\">\n",
       "      <th></th>\n",
       "      <th>raw demand (MW)</th>\n",
       "      <th>category</th>\n",
       "      <th>cleaned demand (MW)</th>\n",
       "      <th>forecast demand (MW)</th>\n",
       "    </tr>\n",
       "    <tr>\n",
       "      <th>date_time</th>\n",
       "      <th></th>\n",
       "      <th></th>\n",
       "      <th></th>\n",
       "      <th></th>\n",
       "    </tr>\n",
       "  </thead>\n",
       "  <tbody>\n",
       "    <tr>\n",
       "      <th>2019-01-01 01:00:00</th>\n",
       "      <td>EMPTY</td>\n",
       "      <td>MISSING</td>\n",
       "      <td>483</td>\n",
       "      <td>1048</td>\n",
       "    </tr>\n",
       "    <tr>\n",
       "      <th>2019-01-01 02:00:00</th>\n",
       "      <td>EMPTY</td>\n",
       "      <td>MISSING</td>\n",
       "      <td>460</td>\n",
       "      <td>1018</td>\n",
       "    </tr>\n",
       "    <tr>\n",
       "      <th>2019-01-01 03:00:00</th>\n",
       "      <td>EMPTY</td>\n",
       "      <td>MISSING</td>\n",
       "      <td>434</td>\n",
       "      <td>975</td>\n",
       "    </tr>\n",
       "    <tr>\n",
       "      <th>2019-01-01 04:00:00</th>\n",
       "      <td>EMPTY</td>\n",
       "      <td>MISSING</td>\n",
       "      <td>416</td>\n",
       "      <td>890</td>\n",
       "    </tr>\n",
       "    <tr>\n",
       "      <th>2019-01-01 05:00:00</th>\n",
       "      <td>EMPTY</td>\n",
       "      <td>MISSING</td>\n",
       "      <td>398</td>\n",
       "      <td>809</td>\n",
       "    </tr>\n",
       "    <tr>\n",
       "      <th>...</th>\n",
       "      <td>...</td>\n",
       "      <td>...</td>\n",
       "      <td>...</td>\n",
       "      <td>...</td>\n",
       "    </tr>\n",
       "    <tr>\n",
       "      <th>2019-12-31 20:00:00</th>\n",
       "      <td>423</td>\n",
       "      <td>OKAY</td>\n",
       "      <td>423</td>\n",
       "      <td>866</td>\n",
       "    </tr>\n",
       "    <tr>\n",
       "      <th>2019-12-31 21:00:00</th>\n",
       "      <td>419</td>\n",
       "      <td>OKAY</td>\n",
       "      <td>419</td>\n",
       "      <td>845</td>\n",
       "    </tr>\n",
       "    <tr>\n",
       "      <th>2019-12-31 22:00:00</th>\n",
       "      <td>414</td>\n",
       "      <td>OKAY</td>\n",
       "      <td>414</td>\n",
       "      <td>872</td>\n",
       "    </tr>\n",
       "    <tr>\n",
       "      <th>2019-12-31 23:00:00</th>\n",
       "      <td>449</td>\n",
       "      <td>OKAY</td>\n",
       "      <td>449</td>\n",
       "      <td>976</td>\n",
       "    </tr>\n",
       "    <tr>\n",
       "      <th>2020-01-01 00:00:00</th>\n",
       "      <td>525</td>\n",
       "      <td>OKAY</td>\n",
       "      <td>525</td>\n",
       "      <td>1154</td>\n",
       "    </tr>\n",
       "  </tbody>\n",
       "</table>\n",
       "<p>8760 rows × 4 columns</p>\n",
       "</div>"
      ],
      "text/plain": [
       "                    raw demand (MW) category  cleaned demand (MW)  \\\n",
       "date_time                                                           \n",
       "2019-01-01 01:00:00           EMPTY  MISSING                  483   \n",
       "2019-01-01 02:00:00           EMPTY  MISSING                  460   \n",
       "2019-01-01 03:00:00           EMPTY  MISSING                  434   \n",
       "2019-01-01 04:00:00           EMPTY  MISSING                  416   \n",
       "2019-01-01 05:00:00           EMPTY  MISSING                  398   \n",
       "...                             ...      ...                  ...   \n",
       "2019-12-31 20:00:00             423     OKAY                  423   \n",
       "2019-12-31 21:00:00             419     OKAY                  419   \n",
       "2019-12-31 22:00:00             414     OKAY                  414   \n",
       "2019-12-31 23:00:00             449     OKAY                  449   \n",
       "2020-01-01 00:00:00             525     OKAY                  525   \n",
       "\n",
       "                    forecast demand (MW)  \n",
       "date_time                                 \n",
       "2019-01-01 01:00:00                 1048  \n",
       "2019-01-01 02:00:00                 1018  \n",
       "2019-01-01 03:00:00                  975  \n",
       "2019-01-01 04:00:00                  890  \n",
       "2019-01-01 05:00:00                  809  \n",
       "...                                  ...  \n",
       "2019-12-31 20:00:00                  866  \n",
       "2019-12-31 21:00:00                  845  \n",
       "2019-12-31 22:00:00                  872  \n",
       "2019-12-31 23:00:00                  976  \n",
       "2020-01-01 00:00:00                 1154  \n",
       "\n",
       "[8760 rows x 4 columns]"
      ]
     },
     "execution_count": 4,
     "metadata": {},
     "output_type": "execute_result"
    }
   ],
   "source": [
    "#import data\n",
    "path=glob.glob(r\"C:\\Users\\Muriel Hauser\\Documents\\Carnegie Science\\State demand data\\BA demand data\\release_2020_Oct_include_subregions\\subregions_and_balancing_authorities\\*.csv\") #adjust path to your location\n",
    "demand_data=dict()\n",
    "importfiles(path,demand_data)\n",
    "#example\n",
    "demand_data['AEC']"
   ]
  },
  {
   "cell_type": "markdown",
   "metadata": {},
   "source": [
    "##### sum up subregional demand to BA level"
   ]
  },
  {
   "cell_type": "markdown",
   "metadata": {},
   "source": [
    "In Stage 1, the subregions in MISO, ISNE, PJM, SWPP, NYIS, and CISO are not considered. Therefore, the available subregional demand data needs to be summed up to the BA level. This concerns MISO, ISNE, PJM, SWPP, NYIS, and CISO."
   ]
  },
  {
   "cell_type": "code",
   "execution_count": 5,
   "metadata": {
    "code_folding": []
   },
   "outputs": [],
   "source": [
    "### functions to help sum up subregion demand data to BA level ###\n",
    "#find BA names for each subregions\n",
    "def search_subregions(dictionary, BA):\n",
    "    names=[]\n",
    "    for v in dictionary.keys():\n",
    "        #print(v)\n",
    "        if BA in v:\n",
    "            #print(v)\n",
    "            names.append(v)\n",
    "    return names\n",
    "\n",
    "#sum the demand of the subregions\n",
    "def sum_subregions(names_of_subregions, dictionary):\n",
    "    df_temp=pd.DataFrame()\n",
    "    for i in names_of_subregions:\n",
    "        df_temp[i]=dictionary[i]['cleaned demand (MW)']\n",
    "    df_temp['cleaned demand (MW)']=df_temp.sum(axis=1)\n",
    "    return df_temp"
   ]
  },
  {
   "cell_type": "code",
   "execution_count": 6,
   "metadata": {
    "code_folding": []
   },
   "outputs": [],
   "source": [
    "#sum up subregion demand to BA level\n",
    "subregions_to_BA_list=['MISO','ISNE','PJM','SWPP','NYIS','CISO']\n",
    "\n",
    "#for each BA, sum subregions using the above functions\n",
    "for BA in subregions_to_BA_list:\n",
    "    names = search_subregions(demand_data,BA)\n",
    "    demand_data[BA] =sum_subregions(names, demand_data)\n",
    "    for i in names:\n",
    "        del demand_data[i]"
   ]
  },
  {
   "cell_type": "markdown",
   "metadata": {},
   "source": [
    "##### Add the demand data of CPLW to the demand data of CPLE"
   ]
  },
  {
   "cell_type": "code",
   "execution_count": 7,
   "metadata": {
    "code_folding": []
   },
   "outputs": [],
   "source": [
    "#there is demand data for CPLW, but CPLW is not covered in the utility customers data. \n",
    "#therefore I add CPLW to CPLE\n",
    "#CPLE=Duke Energy Progress East ;CPLW=Duke Energy Progress West\n",
    "demand_data['CPLE']['cleaned demand (MW)']=demand_data['CPLE']['cleaned demand (MW)']+demand_data['CPLW']['cleaned demand (MW)']"
   ]
  },
  {
   "cell_type": "markdown",
   "metadata": {},
   "source": [
    "# Calculate fraction of retail sales sold from each BA to each state"
   ]
  },
  {
   "cell_type": "code",
   "execution_count": 12,
   "metadata": {
    "scrolled": true
   },
   "outputs": [
    {
     "data": {
      "text/html": [
       "<div>\n",
       "<style scoped>\n",
       "    .dataframe tbody tr th:only-of-type {\n",
       "        vertical-align: middle;\n",
       "    }\n",
       "\n",
       "    .dataframe tbody tr th {\n",
       "        vertical-align: top;\n",
       "    }\n",
       "\n",
       "    .dataframe thead th {\n",
       "        text-align: right;\n",
       "    }\n",
       "</style>\n",
       "<table border=\"1\" class=\"dataframe\">\n",
       "  <thead>\n",
       "    <tr style=\"text-align: right;\">\n",
       "      <th></th>\n",
       "      <th></th>\n",
       "      <th>Retail sales (MWh)</th>\n",
       "    </tr>\n",
       "    <tr>\n",
       "      <th>BA_code</th>\n",
       "      <th>State</th>\n",
       "      <th></th>\n",
       "    </tr>\n",
       "  </thead>\n",
       "  <tbody>\n",
       "    <tr>\n",
       "      <th rowspan=\"2\" valign=\"top\">AEC</th>\n",
       "      <th>AL</th>\n",
       "      <td>6540808.0</td>\n",
       "    </tr>\n",
       "    <tr>\n",
       "      <th>FL</th>\n",
       "      <td>1954233.0</td>\n",
       "    </tr>\n",
       "    <tr>\n",
       "      <th rowspan=\"3\" valign=\"top\">AECI</th>\n",
       "      <th>AR</th>\n",
       "      <td>365486.0</td>\n",
       "    </tr>\n",
       "    <tr>\n",
       "      <th>IA</th>\n",
       "      <td>677468.0</td>\n",
       "    </tr>\n",
       "    <tr>\n",
       "      <th>MO</th>\n",
       "      <td>14922016.0</td>\n",
       "    </tr>\n",
       "    <tr>\n",
       "      <th>...</th>\n",
       "      <th>...</th>\n",
       "      <td>...</td>\n",
       "    </tr>\n",
       "    <tr>\n",
       "      <th rowspan=\"3\" valign=\"top\">WALC</th>\n",
       "      <th>NM</th>\n",
       "      <td>579223.0</td>\n",
       "    </tr>\n",
       "    <tr>\n",
       "      <th>NV</th>\n",
       "      <td>200939.0</td>\n",
       "    </tr>\n",
       "    <tr>\n",
       "      <th>UT</th>\n",
       "      <td>50181.0</td>\n",
       "    </tr>\n",
       "    <tr>\n",
       "      <th rowspan=\"2\" valign=\"top\">WAUW</th>\n",
       "      <th>MT</th>\n",
       "      <td>990441.0</td>\n",
       "    </tr>\n",
       "    <tr>\n",
       "      <th>WY</th>\n",
       "      <td>325725.0</td>\n",
       "    </tr>\n",
       "  </tbody>\n",
       "</table>\n",
       "<p>176 rows × 1 columns</p>\n",
       "</div>"
      ],
      "text/plain": [
       "               Retail sales (MWh)\n",
       "BA_code State                    \n",
       "AEC     AL              6540808.0\n",
       "        FL              1954233.0\n",
       "AECI    AR               365486.0\n",
       "        IA               677468.0\n",
       "        MO             14922016.0\n",
       "...                           ...\n",
       "WALC    NM               579223.0\n",
       "        NV               200939.0\n",
       "        UT                50181.0\n",
       "WAUW    MT               990441.0\n",
       "        WY               325725.0\n",
       "\n",
       "[176 rows x 1 columns]"
      ]
     },
     "execution_count": 12,
     "metadata": {},
     "output_type": "execute_result"
    }
   ],
   "source": [
    "#using the retail sales data, calculate the sum of sales by BA and State\n",
    "Sales_BA_State=pd.DataFrame()\n",
    "Sales_BA_State=retail_sales.groupby([\"BA_code\", \"State\"]).sum()\n",
    "Sales_BA_State"
   ]
  },
  {
   "cell_type": "markdown",
   "metadata": {},
   "source": [
    "Calculate what fraction of sales of each BA goes to each state: (sales [BA&state] / sales [BA])"
   ]
  },
  {
   "cell_type": "code",
   "execution_count": 13,
   "metadata": {},
   "outputs": [
    {
     "data": {
      "text/html": [
       "<div>\n",
       "<style scoped>\n",
       "    .dataframe tbody tr th:only-of-type {\n",
       "        vertical-align: middle;\n",
       "    }\n",
       "\n",
       "    .dataframe tbody tr th {\n",
       "        vertical-align: top;\n",
       "    }\n",
       "\n",
       "    .dataframe thead th {\n",
       "        text-align: right;\n",
       "    }\n",
       "</style>\n",
       "<table border=\"1\" class=\"dataframe\">\n",
       "  <thead>\n",
       "    <tr style=\"text-align: right;\">\n",
       "      <th></th>\n",
       "      <th></th>\n",
       "      <th>Retail sales (MWh)</th>\n",
       "      <th>fraction</th>\n",
       "    </tr>\n",
       "    <tr>\n",
       "      <th>BA_code</th>\n",
       "      <th>State</th>\n",
       "      <th></th>\n",
       "      <th></th>\n",
       "    </tr>\n",
       "  </thead>\n",
       "  <tbody>\n",
       "    <tr>\n",
       "      <th rowspan=\"2\" valign=\"top\">AEC</th>\n",
       "      <th>AL</th>\n",
       "      <td>6540808.0</td>\n",
       "      <td>0.769956</td>\n",
       "    </tr>\n",
       "    <tr>\n",
       "      <th>FL</th>\n",
       "      <td>1954233.0</td>\n",
       "      <td>0.230044</td>\n",
       "    </tr>\n",
       "    <tr>\n",
       "      <th rowspan=\"3\" valign=\"top\">AECI</th>\n",
       "      <th>AR</th>\n",
       "      <td>365486.0</td>\n",
       "      <td>0.019356</td>\n",
       "    </tr>\n",
       "    <tr>\n",
       "      <th>IA</th>\n",
       "      <td>677468.0</td>\n",
       "      <td>0.035879</td>\n",
       "    </tr>\n",
       "    <tr>\n",
       "      <th>MO</th>\n",
       "      <td>14922016.0</td>\n",
       "      <td>0.790274</td>\n",
       "    </tr>\n",
       "    <tr>\n",
       "      <th>...</th>\n",
       "      <th>...</th>\n",
       "      <td>...</td>\n",
       "      <td>...</td>\n",
       "    </tr>\n",
       "    <tr>\n",
       "      <th rowspan=\"3\" valign=\"top\">WALC</th>\n",
       "      <th>NM</th>\n",
       "      <td>579223.0</td>\n",
       "      <td>0.051220</td>\n",
       "    </tr>\n",
       "    <tr>\n",
       "      <th>NV</th>\n",
       "      <td>200939.0</td>\n",
       "      <td>0.017769</td>\n",
       "    </tr>\n",
       "    <tr>\n",
       "      <th>UT</th>\n",
       "      <td>50181.0</td>\n",
       "      <td>0.004437</td>\n",
       "    </tr>\n",
       "    <tr>\n",
       "      <th rowspan=\"2\" valign=\"top\">WAUW</th>\n",
       "      <th>MT</th>\n",
       "      <td>990441.0</td>\n",
       "      <td>0.752520</td>\n",
       "    </tr>\n",
       "    <tr>\n",
       "      <th>WY</th>\n",
       "      <td>325725.0</td>\n",
       "      <td>0.247480</td>\n",
       "    </tr>\n",
       "  </tbody>\n",
       "</table>\n",
       "<p>176 rows × 2 columns</p>\n",
       "</div>"
      ],
      "text/plain": [
       "               Retail sales (MWh)  fraction\n",
       "BA_code State                              \n",
       "AEC     AL              6540808.0  0.769956\n",
       "        FL              1954233.0  0.230044\n",
       "AECI    AR               365486.0  0.019356\n",
       "        IA               677468.0  0.035879\n",
       "        MO             14922016.0  0.790274\n",
       "...                           ...       ...\n",
       "WALC    NM               579223.0  0.051220\n",
       "        NV               200939.0  0.017769\n",
       "        UT                50181.0  0.004437\n",
       "WAUW    MT               990441.0  0.752520\n",
       "        WY               325725.0  0.247480\n",
       "\n",
       "[176 rows x 2 columns]"
      ]
     },
     "execution_count": 13,
     "metadata": {},
     "output_type": "execute_result"
    }
   ],
   "source": [
    "#first, get unique values (of BA's) of multiindex \n",
    "bas = Sales_BA_State.index.get_level_values(0).unique() \n",
    "#for each State in each BA, calculate fraction of electricity sales and safe them in new column \"fraction\"\n",
    "for ba in bas:\n",
    "    Sales_BA_State.loc[ba,\"fraction\"] = (Sales_BA_State.loc[ba, \"Retail sales (MWh)\"]/Sales_BA_State.loc[ba, \"Retail sales (MWh)\"].sum()).values # sales by state and BA divided by sales of entire BA\n",
    "Sales_BA_State    "
   ]
  },
  {
   "cell_type": "code",
   "execution_count": null,
   "metadata": {},
   "outputs": [],
   "source": [
    "#export\n",
    "Sales_BA_State.to_excel(r\"C:\\Users\\Muriel Hauser\\Documents\\Carnegie Science\\State demand data\\fraction_By_state_BAcode.xlsx\")"
   ]
  },
  {
   "cell_type": "markdown",
   "metadata": {},
   "source": [
    "**To continue to Stage 2, only these fractions are required.**"
   ]
  },
  {
   "cell_type": "markdown",
   "metadata": {},
   "source": [
    "# Calculate the hourly demand profile for each state"
   ]
  },
  {
   "cell_type": "markdown",
   "metadata": {},
   "source": [
    "The fraction calculated above shows how much electricity each BA sells to each state. Multiplying the fraction with the hourly demand profile of the BA provides the amount of electricity demand that is supplied from the BA to a state. For each state, adding up the fractions of the demand of all BAs that contribute to the state results in the total hourly demand profile."
   ]
  },
  {
   "cell_type": "code",
   "execution_count": 32,
   "metadata": {
    "code_folding": [],
    "scrolled": false
   },
   "outputs": [],
   "source": [
    "#create a list of all the states in the US(51)(Washington DC counted as a seperate state)\n",
    "States=retail_sales.State.unique() \n",
    "States=States.tolist()\n",
    "#remove states not in CONUS\n",
    "States.remove('AK')\n",
    "States.remove('HI')\n",
    "#remove states that are supplied by ISNE, as these demand profiles are calculated separately in section 3\n",
    "States.remove('MA')\n",
    "States.remove('ME')\n",
    "States.remove('NH')\n",
    "States.remove('VT')\n",
    "States.remove('CT')\n",
    "States.remove('RI')\n",
    "#create new dictionary, where each key will be one State's hourly demand data\n",
    "final_state_demand=dict()\n",
    "for state in States:\n",
    "    summ = 0\n",
    "    for i in Sales_BA_State.loc[Sales_BA_State.index.get_level_values(1)==state].index.get_level_values(0):  #i= all BA's that are \"active\" in the particular state\n",
    "        # for some BA's there is no demand data, hence those are skipped\n",
    "        if i== 'OVEC':  #Ohio Valley Electric Corporation\n",
    "            continue\n",
    "        if i== 'SEC':  #Florida\n",
    "            continue\n",
    "        if i== 'SEPA':  #Georiga\n",
    "            continue\n",
    "        if i== 'AMPL': #Arkansas\n",
    "            continue\n",
    "        if i== 'CEA': #Canadian Electricity Association\n",
    "            continue\n",
    "        if i== 'NBSO': #New Brunswick System Operator, Canada\n",
    "            continue\n",
    "        if i== 'HECO': #Hawaiian electric company\n",
    "            continue\n",
    "        summ+=demand_data[i]['cleaned demand (MW)']*(Sales_BA_State.loc[(Sales_BA_State.index.get_level_values(1)==state) & (Sales_BA_State.index.get_level_values(0)==i)]['fraction'].values)\n",
    "    final_state_demand[state]=summ\n",
    "    #print(new_dicti[state].sum())"
   ]
  },
  {
   "cell_type": "code",
   "execution_count": 37,
   "metadata": {},
   "outputs": [
    {
     "data": {
      "text/plain": [
       "date_time\n",
       "2019-01-01 01:00:00    5990.331389\n",
       "2019-01-01 02:00:00    5844.391683\n",
       "2019-01-01 03:00:00    5690.278765\n",
       "2019-01-01 04:00:00    5548.918563\n",
       "2019-01-01 05:00:00    5384.130850\n",
       "                          ...     \n",
       "2019-12-31 20:00:00    5858.457504\n",
       "2019-12-31 21:00:00    5776.460321\n",
       "2019-12-31 22:00:00    5748.083604\n",
       "2019-12-31 23:00:00    5879.125937\n",
       "2020-01-01 00:00:00    6115.343814\n",
       "Name: cleaned demand (MW), Length: 8760, dtype: float64"
      ]
     },
     "execution_count": 37,
     "metadata": {},
     "output_type": "execute_result"
    }
   ],
   "source": [
    "#example\n",
    "final_state_demand['IA']"
   ]
  },
  {
   "cell_type": "code",
   "execution_count": 33,
   "metadata": {
    "scrolled": true
   },
   "outputs": [
    {
     "name": "stdout",
     "output_type": "stream",
     "text": [
      "SC\n",
      "MS\n",
      "LA\n",
      "MD\n",
      "VA\n",
      "MN\n",
      "IL\n",
      "WI\n",
      "NY\n",
      "PA\n",
      "OH\n",
      "GA\n",
      "IA\n",
      "IN\n",
      "AZ\n",
      "NV\n",
      "AL\n",
      "FL\n",
      "NC\n",
      "CA\n",
      "MO\n",
      "ID\n",
      "KS\n",
      "OK\n",
      "MI\n",
      "NE\n",
      "WA\n",
      "TX\n",
      "TN\n",
      "KY\n",
      "WV\n",
      "AR\n",
      "SD\n",
      "OR\n",
      "CO\n",
      "NJ\n",
      "NM\n",
      "ND\n",
      "WY\n",
      "MT\n",
      "UT\n",
      "DE\n",
      "DC\n"
     ]
    }
   ],
   "source": [
    "#safe hourly demand data per state to excel files\n",
    "for i in final_state_demand: #all state demand data are saved in a dictionary\n",
    "    final_state_demand[i].to_csv(r'C:\\\\Users\\\\Muriel Hauser\\\\Documents\\\\Carnegie Science\\\\State demand data\\\\State demand data\\\\2019_MEM_format\\\\'+i+'.csv',sep=';',index=True) #adapt path to your location"
   ]
  }
 ],
 "metadata": {
  "kernelspec": {
   "display_name": "Python 3",
   "language": "python",
   "name": "python3"
  },
  "language_info": {
   "codemirror_mode": {
    "name": "ipython",
    "version": 3
   },
   "file_extension": ".py",
   "mimetype": "text/x-python",
   "name": "python",
   "nbconvert_exporter": "python",
   "pygments_lexer": "ipython3",
   "version": "3.8.3"
  },
  "toc": {
   "base_numbering": 1,
   "nav_menu": {},
   "number_sections": true,
   "sideBar": true,
   "skip_h1_title": false,
   "title_cell": "Table of Contents",
   "title_sidebar": "Contents",
   "toc_cell": false,
   "toc_position": {
    "height": "calc(100% - 180px)",
    "left": "10px",
    "top": "150px",
    "width": "285.4px"
   },
   "toc_section_display": true,
   "toc_window_display": true
  },
  "varInspector": {
   "cols": {
    "lenName": 16,
    "lenType": 16,
    "lenVar": 40
   },
   "kernels_config": {
    "python": {
     "delete_cmd_postfix": "",
     "delete_cmd_prefix": "del ",
     "library": "var_list.py",
     "varRefreshCmd": "print(var_dic_list())"
    },
    "r": {
     "delete_cmd_postfix": ") ",
     "delete_cmd_prefix": "rm(",
     "library": "var_list.r",
     "varRefreshCmd": "cat(var_dic_list()) "
    }
   },
   "types_to_exclude": [
    "module",
    "function",
    "builtin_function_or_method",
    "instance",
    "_Feature"
   ],
   "window_display": false
  }
 },
 "nbformat": 4,
 "nbformat_minor": 2
}
