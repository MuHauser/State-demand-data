{
 "cells": [
  {
   "cell_type": "markdown",
   "metadata": {},
   "source": [
    "The subregional ISNE data fits the borders of the states in New England. Therefore, the subregional data is directly used to represent the demand for these states. See https://www.iso-ne.com/about/key-stats/maps-and-diagrams/#load-zones"
   ]
  },
  {
   "cell_type": "markdown",
   "metadata": {},
   "source": [
    "The ISNE subregions correspond to the following states:    \n",
    "ISNE-4001 = Maine ME        \n",
    "ISNE-4002 = New Hampshire NH    \n",
    "ISNE-4003 = Vermont VT     \n",
    "ISNE-4004 = Connecticut CT    \n",
    "ISNE-4005 = Rhode Island RI      \n",
    "ISNE-4006 & ISNE-4007 & ISNE-4008 = Massachussetts MA"
   ]
  },
  {
   "cell_type": "markdown",
   "metadata": {},
   "source": [
    "# Import demand data"
   ]
  },
  {
   "cell_type": "code",
   "execution_count": 1,
   "metadata": {},
   "outputs": [],
   "source": [
    "#import required packages\n",
    "import pandas as pd\n",
    "import matplotlib.pyplot as plt\n",
    "import numpy as np\n",
    "import glob"
   ]
  },
  {
   "cell_type": "markdown",
   "metadata": {},
   "source": [
    "Import hourly demand data (EIA-930) for 2019 from here: https://github.com/truggles/EIA_Cleaned_Hourly_Electricity_Demand_Data, as described here: https://www.nature.com/articles/s41597-020-0483-x"
   ]
  },
  {
   "cell_type": "code",
   "execution_count": 3,
   "metadata": {
    "code_folding": [
     0
    ],
    "run_control": {
     "marked": false
    }
   },
   "outputs": [],
   "source": [
    "#function to import demand data and safe as dictionary (each key = one BA)\n",
    "def importfiles(path, dicname):\n",
    "    for f in path:\n",
    "        key = f.split('\\\\')[-1].split('.')[0]\n",
    "        BA_demand=pd.read_csv(f, error_bad_lines=False)\n",
    "        #BA_demand=BA_demand.iloc[2208:10968]    #only year 2019\n",
    "        BA_demand=BA_demand.iloc[2209:10969]    #only year 2019 for MEM format #adjust if other years preferred\n",
    "        BA_demand=BA_demand.set_index('date_time')\n",
    "        #print(key)\n",
    "        #BA = analyze(f)\n",
    "        dicname[(key)] = BA_demand\n",
    "\n"
   ]
  },
  {
   "cell_type": "code",
   "execution_count": 4,
   "metadata": {},
   "outputs": [
    {
     "data": {
      "text/html": [
       "<div>\n",
       "<style scoped>\n",
       "    .dataframe tbody tr th:only-of-type {\n",
       "        vertical-align: middle;\n",
       "    }\n",
       "\n",
       "    .dataframe tbody tr th {\n",
       "        vertical-align: top;\n",
       "    }\n",
       "\n",
       "    .dataframe thead th {\n",
       "        text-align: right;\n",
       "    }\n",
       "</style>\n",
       "<table border=\"1\" class=\"dataframe\">\n",
       "  <thead>\n",
       "    <tr style=\"text-align: right;\">\n",
       "      <th></th>\n",
       "      <th>raw demand (MW)</th>\n",
       "      <th>category</th>\n",
       "      <th>cleaned demand (MW)</th>\n",
       "      <th>forecast demand (MW)</th>\n",
       "    </tr>\n",
       "    <tr>\n",
       "      <th>date_time</th>\n",
       "      <th></th>\n",
       "      <th></th>\n",
       "      <th></th>\n",
       "      <th></th>\n",
       "    </tr>\n",
       "  </thead>\n",
       "  <tbody>\n",
       "    <tr>\n",
       "      <th>2019-01-01 01:00:00</th>\n",
       "      <td>EMPTY</td>\n",
       "      <td>MISSING</td>\n",
       "      <td>483</td>\n",
       "      <td>1048</td>\n",
       "    </tr>\n",
       "    <tr>\n",
       "      <th>2019-01-01 02:00:00</th>\n",
       "      <td>EMPTY</td>\n",
       "      <td>MISSING</td>\n",
       "      <td>460</td>\n",
       "      <td>1018</td>\n",
       "    </tr>\n",
       "    <tr>\n",
       "      <th>2019-01-01 03:00:00</th>\n",
       "      <td>EMPTY</td>\n",
       "      <td>MISSING</td>\n",
       "      <td>434</td>\n",
       "      <td>975</td>\n",
       "    </tr>\n",
       "    <tr>\n",
       "      <th>2019-01-01 04:00:00</th>\n",
       "      <td>EMPTY</td>\n",
       "      <td>MISSING</td>\n",
       "      <td>416</td>\n",
       "      <td>890</td>\n",
       "    </tr>\n",
       "    <tr>\n",
       "      <th>2019-01-01 05:00:00</th>\n",
       "      <td>EMPTY</td>\n",
       "      <td>MISSING</td>\n",
       "      <td>398</td>\n",
       "      <td>809</td>\n",
       "    </tr>\n",
       "    <tr>\n",
       "      <th>...</th>\n",
       "      <td>...</td>\n",
       "      <td>...</td>\n",
       "      <td>...</td>\n",
       "      <td>...</td>\n",
       "    </tr>\n",
       "    <tr>\n",
       "      <th>2019-12-31 20:00:00</th>\n",
       "      <td>423</td>\n",
       "      <td>OKAY</td>\n",
       "      <td>423</td>\n",
       "      <td>866</td>\n",
       "    </tr>\n",
       "    <tr>\n",
       "      <th>2019-12-31 21:00:00</th>\n",
       "      <td>419</td>\n",
       "      <td>OKAY</td>\n",
       "      <td>419</td>\n",
       "      <td>845</td>\n",
       "    </tr>\n",
       "    <tr>\n",
       "      <th>2019-12-31 22:00:00</th>\n",
       "      <td>414</td>\n",
       "      <td>OKAY</td>\n",
       "      <td>414</td>\n",
       "      <td>872</td>\n",
       "    </tr>\n",
       "    <tr>\n",
       "      <th>2019-12-31 23:00:00</th>\n",
       "      <td>449</td>\n",
       "      <td>OKAY</td>\n",
       "      <td>449</td>\n",
       "      <td>976</td>\n",
       "    </tr>\n",
       "    <tr>\n",
       "      <th>2020-01-01 00:00:00</th>\n",
       "      <td>525</td>\n",
       "      <td>OKAY</td>\n",
       "      <td>525</td>\n",
       "      <td>1154</td>\n",
       "    </tr>\n",
       "  </tbody>\n",
       "</table>\n",
       "<p>8760 rows × 4 columns</p>\n",
       "</div>"
      ],
      "text/plain": [
       "                    raw demand (MW) category  cleaned demand (MW)  \\\n",
       "date_time                                                           \n",
       "2019-01-01 01:00:00           EMPTY  MISSING                  483   \n",
       "2019-01-01 02:00:00           EMPTY  MISSING                  460   \n",
       "2019-01-01 03:00:00           EMPTY  MISSING                  434   \n",
       "2019-01-01 04:00:00           EMPTY  MISSING                  416   \n",
       "2019-01-01 05:00:00           EMPTY  MISSING                  398   \n",
       "...                             ...      ...                  ...   \n",
       "2019-12-31 20:00:00             423     OKAY                  423   \n",
       "2019-12-31 21:00:00             419     OKAY                  419   \n",
       "2019-12-31 22:00:00             414     OKAY                  414   \n",
       "2019-12-31 23:00:00             449     OKAY                  449   \n",
       "2020-01-01 00:00:00             525     OKAY                  525   \n",
       "\n",
       "                    forecast demand (MW)  \n",
       "date_time                                 \n",
       "2019-01-01 01:00:00                 1048  \n",
       "2019-01-01 02:00:00                 1018  \n",
       "2019-01-01 03:00:00                  975  \n",
       "2019-01-01 04:00:00                  890  \n",
       "2019-01-01 05:00:00                  809  \n",
       "...                                  ...  \n",
       "2019-12-31 20:00:00                  866  \n",
       "2019-12-31 21:00:00                  845  \n",
       "2019-12-31 22:00:00                  872  \n",
       "2019-12-31 23:00:00                  976  \n",
       "2020-01-01 00:00:00                 1154  \n",
       "\n",
       "[8760 rows x 4 columns]"
      ]
     },
     "execution_count": 4,
     "metadata": {},
     "output_type": "execute_result"
    }
   ],
   "source": [
    "#import data\n",
    "path=glob.glob(r\"C:\\Users\\Muriel Hauser\\Documents\\Carnegie Science\\State demand data\\BA demand data\\release_2020_Oct_include_subregions\\subregions_and_balancing_authorities\\*.csv\") #adjust path to your location\n",
    "demand_data=dict()\n",
    "importfiles(path,demand_data)\n",
    "#example\n",
    "demand_data['AEC']"
   ]
  },
  {
   "cell_type": "markdown",
   "metadata": {},
   "source": [
    "# Create hourly demand profiles for New England"
   ]
  },
  {
   "cell_type": "code",
   "execution_count": 22,
   "metadata": {},
   "outputs": [],
   "source": [
    "#create demand data for each state seperately\n",
    "ME=pd.DataFrame()\n",
    "ME['cleaned demand (MW)']=demand_data['ISNE']['ISNE-4001']\n",
    "NH=pd.DataFrame()\n",
    "NH['cleaned demand (MW)']=demand_data['ISNE']['ISNE-4002']\n",
    "VT=pd.DataFrame()\n",
    "VT['cleaned demand (MW)']=demand_data['ISNE']['ISNE-4003']\n",
    "CT=pd.DataFrame()\n",
    "CT['cleaned demand (MW)']=demand_data['ISNE']['ISNE-4004']\n",
    "RI=pd.DataFrame()\n",
    "RI['cleaned demand (MW)']=demand_data['ISNE']['ISNE-4005']\n",
    "MA=pd.DataFrame()\n",
    "MA['cleaned demand (MW)']=demand_data['ISNE']['ISNE-4006']+demand_data['ISNE']['ISNE-4007']+demand_data['ISNE']['ISNE-4008']"
   ]
  },
  {
   "cell_type": "code",
   "execution_count": 24,
   "metadata": {},
   "outputs": [],
   "source": [
    "#export hourly demand data for states in ISNE\n",
    "#adapt path to your location\n",
    "MA.to_csv(r'C:\\Users\\Muriel Hauser\\Documents\\Carnegie Science\\State demand data\\State demand data\\2019_MEM_format\\ISNE\\MA.csv',sep=';',index=True)\n",
    "ME.to_csv(r'C:\\Users\\Muriel Hauser\\Documents\\Carnegie Science\\State demand data\\State demand data\\2019_MEM_format\\ISNE\\ME.csv',sep=';',index=True)\n",
    "RI.to_csv(r'C:\\Users\\Muriel Hauser\\Documents\\Carnegie Science\\State demand data\\State demand data\\2019_MEM_format\\ISNE\\RI.csv',sep=';',index=True)\n",
    "VT.to_csv(r'C:\\Users\\Muriel Hauser\\Documents\\Carnegie Science\\State demand data\\State demand data\\2019_MEM_format\\ISNE\\VT.csv',sep=';',index=True)\n",
    "CT.to_csv(r'C:\\Users\\Muriel Hauser\\Documents\\Carnegie Science\\State demand data\\State demand data\\2019_MEM_format\\ISNE\\CT.csv',sep=';',index=True)\n",
    "NH.to_csv(r'C:\\Users\\Muriel Hauser\\Documents\\Carnegie Science\\State demand data\\State demand data\\2019_MEM_format\\ISNE\\NH.csv',sep=';',index=True)"
   ]
  }
 ],
 "metadata": {
  "kernelspec": {
   "display_name": "Python 3",
   "language": "python",
   "name": "python3"
  },
  "language_info": {
   "codemirror_mode": {
    "name": "ipython",
    "version": 3
   },
   "file_extension": ".py",
   "mimetype": "text/x-python",
   "name": "python",
   "nbconvert_exporter": "python",
   "pygments_lexer": "ipython3",
   "version": "3.8.3"
  },
  "toc": {
   "base_numbering": 1,
   "nav_menu": {},
   "number_sections": true,
   "sideBar": true,
   "skip_h1_title": false,
   "title_cell": "Table of Contents",
   "title_sidebar": "Contents",
   "toc_cell": false,
   "toc_position": {},
   "toc_section_display": true,
   "toc_window_display": false
  }
 },
 "nbformat": 4,
 "nbformat_minor": 4
}
